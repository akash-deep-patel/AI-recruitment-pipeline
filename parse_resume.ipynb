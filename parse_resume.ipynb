{
 "cells": [
  {
   "cell_type": "code",
   "execution_count": 91,
   "metadata": {},
   "outputs": [],
   "source": [
    "from langchain_community.document_loaders import PyMuPDFLoader\n",
    "# Load a document from given path\n",
    "filepath = r\"C:\\Users\\Akash Deep Patel\\Documents\\AI-recruitment-pipeline\\115215012\\CAND SUBMIT\\report_116215012_Cognizant_CWR_Java-MSB_Pan-India_26-Nov-2024\\Abhijeet Kumar Ranjan_61515ccc472af00008294fb9.pdf\"\n",
    "loader = PyMuPDFLoader(file_path=filepath)\n",
    "doc = loader.load()\n",
    "doc_final_ = [\" \".join(page.page_content.splitlines()) for page in doc]\n",
    "doc_final = \" \".join(doc_final_)"
   ]
  },
  {
   "cell_type": "code",
   "execution_count": null,
   "metadata": {},
   "outputs": [
    {
     "data": {
      "text/plain": [
       "True"
      ]
     },
     "metadata": {},
     "output_type": "display_data"
    }
   ],
   "source": [
    "from dotenv import load_dotenv\n",
    "load_dotenv()"
   ]
  },
  {
   "cell_type": "code",
   "execution_count": 59,
   "metadata": {},
   "outputs": [
    {
     "data": {
      "text/plain": [
       "Document(metadata={'source': 'C:\\\\Users\\\\Akash Deep Patel\\\\Documents\\\\agentic ai workspace\\\\3-chatbots-31381a0b3357524943dbbf06c8cd23c1\\\\3-Chatbots\\\\115215012\\\\CAND SUBMIT\\\\report_116215012_Cognizant_CWR_Java-MSB_Pan-India_26-Nov-2024\\\\pakeeraiah jakki_65cb4619bf53640008c458a2.pdf'}, page_content='JAKKI PAKEERIAH \\xa0 +91 8074365562 \\xa0 govindgiri86882@gmail.com \\xa0 CAREER SUMMARY \\xa0 7.2 \\xa0 Having \\xa0 years of experience in the Development of\\xa0 Web applications using\\xa0 J2EE \\xa0Technologies. \\xa0 b \\x16 b \\x16 b \\x16 b \\x16 b \\x16 b \\x16 b \\x16 b \\x16 b \\x16 Hands on experience Hibernate and Spring Frameworks. \\xa0 Hands on experience on MVC Architecture. \\xa0 Worked\\xa0on Migration project which moved fromOracle DB to Postgres. \\xa0 Strong emphasis and in-depth knowledge of Java, JDBC, Log4J. \\xa0 Experience on Object Oriented Programming (OOPS). \\xa0 Having Working experience on java 8 features. \\xa0 Good exposure\\xa0on Spring Boot and Microservice, Spring Data JPA, Kafka. \\xa0 Experience in source code management tool\\xa0Git and SVN. \\xa0 Working Experience on Eclipse, My Eclipse, Net Beans. \\xa0 b \\x16 b \\x16 b \\x16 b \\x16 b \\x16 b \\x16 Flexible, able to work effectively in a team environment or as an individual Contributor. \\xa0 Easy learning and flexible to work on different kinds of API and Technologies. \\xa0 Excellent analytical, communication and mentoring skills prove an asset toOrganization. \\xa0 Versatile Team Player with Good Communications and Problem Solving Skills. \\xa0 Quick learner and ability to mingle with the working environment. \\xa0 Employment history : \\xa0 b \\x16 b \\x16 b \\x16 Currently working\\xa0 in AGON IT Solutions Pvt.ltd\\xa0 from June 2022 to till date. \\xa0 Previously worked for NLB Services private limited from Jan 3 2022\\xa0 to 10 June 2022. \\xa0 Previously worked for Cognizant from Nov 2017 to Dec 27 2022 \\xa0 Education details: \\xa0 b \\x16 Bachelor of Electronics and Communication Engineering from Chadalawada \\xa0 Ramanamma engineering\\xa0 college , Tirupati, Andhra Pradesh with 69% in 2013. \\xa0 b \\x16 b \\x16 Intermediate (M.P.C) from APRJC BOYS,Nellore,AndhraPradesh\\xa0with 88% in 2009. \\xa0 SSC from APRS residentialschool, Nellore,AndhraPradesh with 85%in 2007. \\xa0 \\xa0 \\xa0 Project summary j y\\xa0 Project Name \\xa0 : MFE Migration \\xa0 Role \\xa0 : Tech Lead software \\xa0 Technology \\xa0 : Java, Springboot, Maven, MicroServices \\xa0 STS \\xa0 Tools \\xa0 SDLC \\xa0 : : Agile\\xa0System Development Life Cycle \\xa0 Description: \\xa0 Migration of\\xa0 Monolithic Front application to MFE to improve performance, scalability, \\xa0 independent deployment . \\xa0 ResponsabilitC)s: \\xa0 b \\x16 Design and Implementation of new functionality assigned by client. \\xa0 b \\x16 API clean up done on order confirmation pages by removing few of the fields from UI request \\xa0 make them to load from\\xa0 session. \\xa0 b \\x16 b \\x16 Worked on Server side Tagging changes as per MFE architecture. \\xa0 Designed data model as per the given specification and designed all type of endpoints as per the \\xa0 project requirement \\xa0 Project Name \\xa0 Role \\xa0 : : GPC \\xa0 Senior software Engineer \\xa0 Technology \\xa0 : Java, Spring, Gitlab, Maven, MVC, Spring Boot, Postgres \\xa0 Studio Tools \\xa0 SDLC \\xa0 : STS \\xa0 : Agile\\xa0System Development Life Cycle \\xa0 Description: \\xa0 GPC project completely deals the flow of delivery of different products such automotive replacement \\xa0 parts, industrial replacement parts, office products and electrical/electronic materials\\xa0 from one place \\xa0 to another place. \\xa0 ResponsabilitC)s: \\xa0 b \\x16 b \\x16 b \\x16 b \\x16 b \\x16 Design and Implementation of new functionality assigned by client. \\xa0 Consumed Third party APIb\\x19s such as door dash to integrate in the project. \\xa0 Worked on webhook to capture the events of each delivery. \\xa0 Designed data model as per the given specification. \\xa0 Designed all type of endpoints as per the project requirement. \\xa0 Project Name \\xa0 : Jarvis Experimentation Program \\xa0 Role \\xa0 : Senior software Engineer \\xa0 Technology \\xa0 : Java, Spring, Gitlab, Maven, MVC, Hibernate, Spring Boot, Micro services, Postgres \\xa0 Studio Tools \\xa0 SDLC \\xa0 : STS \\xa0 : Agile\\xa0System Development Life Cycle \\xa0 Description: \\xa0 Data Engineers will be doing ML models, re-training, testing, etc and will deploy the model to the AWS \\xa0 EKS for serving downstream\\xa0 systems. An SSD is an automated platform to do all the above activities. It \\xa0 will also do automated sanity testing and load testing and\\xa0 publishing the results. \\xa0 ResponsabilitC)s: \\xa0 b \\x16 Design and Implementation of new functionality assigned by client. \\xa0 b \\x16 Actively involved in problem solving with other vendors work on same project. \\xa0 b \\x16 b \\x16 b \\x16 Implemented pagination, search functionality by using data JPA. \\xa0 Written groovy test cases using SPOC language. \\xa0 Proficient in using Axios, a popular JavaScript library, to handle HTTP requests for API integration in \\xa0 React.js applications. \\xa0 b \\x16 b \\x16 Experience in making asynchronous API calls to fetch data from server-side endpoints using Axios. \\xa0 Familiarity with Axios methods like get, post, put, delete, etc., to interact with various HTTP \\xa0 methods. \\xa0 b \\x16 b \\x16 Knowledge of handling response data and error handling using Axios promises (then, catch,finally). \\xa0 Ability to set custom headers, query parameters, and request payloads while making API calls using \\xa0 Axios. \\xa0 b \\x16 b \\x16 b \\x16 Experience with Axios interceptors to globally handle request and response configurations, \\xa0 such as adding authorization tokens or handling API errors. \\xa0 Understanding of handling concurrent requests and managing loading and error states during API \\xa0 calls. \\xa0 Proficient in integrating third-party APIs and authenticating requests using Axios. \\xa0 Project Name \\xa0 : MANULIFE \\xa0 Domain \\xa0 : Insurance \\xa0 Role \\xa0 : : Developer \\xa0 Technology \\xa0 Java, Spring, Git, Maven, MVC, \\xa0 Hibernate, Spring Boot, Micro services, Postgres \\xa0 Studio Tools \\xa0 : Eclipse SDLC \\xa0\\xa0 : Agile\\xa0System Development Life Cycle \\xa0 Description: \\xa0 V3 is a full-fledged web based Fund Management Solution designed primarily for Insurance \\xa0 Offices, Employers and\\xa0 Employees. It provides an off the shelf solution facilitating Insurance \\xa0 processing. \\xa0 The major functional areas include World, Disbursements, Group and Contributions. Product \\xa0 automates most of the process\\xa0 through batch scheduling and provides a comprehensive reporting \\xa0 module to \\xa0 provide information required for Insurance Offices and Members through modules called Line of \\xa0 Business (LOB),Member\\xa0 Self Service (MSS) respectively. The Insurance Office uses the LOB \\xa0 module to create the Group, Member details and their\\xa0 associations. \\xa0 ResponsabilitC)s: \\xa0 b \\x16 b \\x16 b \\x16 Involved in the workflow implementation, validations and designing. \\xa0 Designing documents for different claims, members,\\xa0 persons. \\xa0 Experience in CI CD using Jenkins, Jenkins administration and written a pipeline as a \\xa0 code formultiple Jobs in Jenkins and monitor the logs. \\xa0 b \\x16 b \\x16 Involved in development of Hibernate mapping files and DAO Persistency classes. \\xa0 worked on Microservices development and developed multiple\\xa0microservices using \\xa0 RESTAPI, sending\\xa0 payloads from postman to v3 application. \\xa0 b \\x16 Implemented Kafka producer and consumer applications on Kafka cluster setup\\xa0 with help \\xa0 ofZookeeper. \\xa0 b \\x16 b \\x16 Spring Data JPA is used as a persistent layer when developing microservices like \\xa0 inbound,outbound and edge\\xa0 microservices. \\xa0 Have knowledge on partition of Kafka messages and setting up the replication\\xa0factors in \\xa0 KafkaCluster. b \\x16 Used Spring Kafka API calls to process the messages smoothly on Kafka Cluster setup \\xa0 and tocreate members\\xa0 in V3 Application. \\xa0 b \\x16 b \\x16 b \\x16 Used Zuul Proxy as APIGate Way to Route and Filter the Request. \\xa0 Used Histrix as a circuit breaker for fault tolerance and resilience. \\xa0 PostMan is Used to Create ESC and Health E-Claims in V3 Application. \\xa0 Project Name \\xa0 Domain \\xa0 Role \\xa0 : CFAO(CARPENTER FUND ADMINISTRATIVE OFFICE) \\xa0 Pension \\xa0 : : Senior Software Engineer \\xa0 Environment \\xa0 OracleStudio Tools \\xa0 SDLC \\xa0 : : : Java, Spring, Git, Maven, MVC, Hibernate, \\xa0 IntelliJ \\xa0 Agile System Development Life \\xa0 Description: \\xa0 The Carpenter Funds Administrative Office is the largest Pension company in Northern California. \\xa0 Principle services includes\\xa0 pension and retirement, security brokerage services. It provides these \\xa0 products and services to individual and institutional\\xa0 customers through distribution network in financial service industry. \\xa0 This will also setup different policy contribution payment modes using the disbursements module. The \\xa0 Members can use the MSS\\xa0 module to communicate with the Insurance Office to check their \\xa0 contributions and payments. \\xa0 ResponsabilitC)s: \\xa0 b \\x16 Working on bug fixes reported by the testing team. \\xa0 b \\x16 Implemented Database related modifications using Hibernate and Oracle. \\xa0 Involved in the workflow implementation, validations and designing. \\xa0 Interacting with the testing team for test cases. \\xa0 b \\x16 b \\x16 b \\x16 b \\x16 Working on Enhancements and merging code to different regions. \\xa0 Participating in Scrum call. \\xa0 b \\x16 b \\x16 Worked on Production Support. \\xa0 Daily Communication with business to prioritize enhancements and production defects. \\xa0 Project Name \\xa0 : LinconFinancialgroup \\xa0 Domain \\xa0 : Insurance \\xa0 Client \\xa0 : LFG \\xa0 Environment \\xa0 : Java, Spring, Maven, MVC, Hibernate, Oracle, Profiler \\xa0 Tools :\\xa0Eclipse Role\\xa0 : Developer \\xa0 Description: \\xa0 Standing Settlement Instructions (SSIs) are the agreements between two financial institutions \\xa0 which fix the receiving\\xa0 agents of each counterparty in ordinary trades of some type. These \\xa0 agreements allow traders to make faster trades since\\xa0 time used to settle the \\xa0 Financial institution is an institution that provides financial services for its clients or members. \\xa0 Probably the most important\\xa0 financial service provided by financial institutions is acting as \\xa0 financial intermediaries. The SSI contains workflow to process\\xa0 the requests of eachto process \\xa0 financialtransactions. \\xa0 ResponsabilitC)s: \\xa0 b \\x16 b \\x16 Implementing validations as per requirement. \\xa0 Preparing Analysis Doc and Detail Design Documents. \\xa0 b \\x16 Experienced in agile development methodology during designs, implementation and \\xa0 maintenance. \\xa0 b \\x16 b \\x16 b \\x16 Implemented Database related modifications using Hibernate and Oracle. \\xa0 Involved in the workflow implementation, validations and designing. \\xa0 Working knowledge on SVN Tool and JIRA. b \\x16 Developed various claims, retirement and plan based reports by using Jasper Studio. [object Object]')"
      ]
     },
     "execution_count": 59,
     "metadata": {},
     "output_type": "execute_result"
    }
   ],
   "source": [
    "from langchain_core.documents import Document\n",
    "\n",
    "Document(metadata={'source': filepath}, page_content=doc_final)"
   ]
  },
  {
   "cell_type": "code",
   "execution_count": 92,
   "metadata": {},
   "outputs": [],
   "source": [
    "from langchain_groq import ChatGroq\n",
    "import os\n",
    "model = ChatGroq(model=\"gemma2-9b-it\", temperature=0.0)\n",
    "context = [\" \".join(doc[i].page_content.splitlines()) for i in range(len(doc))]\n",
    "context = \" \".join(context)\n",
    "messages = [(\"system\", f\"You are a helpful assistant with capability of answering a question from this context {context}.\"),  \n",
    "(\"human\", \"how many companies this person has worked, please show the duration also for each of the company in a table format?\"),]\n",
    "ai_msg=model.invoke(messages)"
   ]
  },
  {
   "cell_type": "code",
   "execution_count": null,
   "metadata": {},
   "outputs": [],
   "source": [
    "#chat promt with chatmessagehistory enabled\n",
    "\n"
   ]
  },
  {
   "cell_type": "code",
   "execution_count": 93,
   "metadata": {},
   "outputs": [
    {
     "data": {
      "text/plain": [
       "\"Here's the table showing the number of companies Abhijeet Ranjan has worked for, along with their durations:\\n\\n| Company Name              | Duration             |\\n|--------------------------|-----------------------|\\n| Virtusa Consulting Services Pvt. Ltd. | June 2018 - Present |\\n| Fujitsu India             | Sept 2015 - Sept 2016 |\\n| Tata Consultancy Services | Oct 2013 - Sept 2015 |\\n| IDS Software Pvt. Ltd.    |  Sept 2016 - May 2018 | \\n\\n\\nLet me know if you have any other questions about Abhijeet's experience! \\n\""
      ]
     },
     "execution_count": 93,
     "metadata": {},
     "output_type": "execute_result"
    }
   ],
   "source": [
    "ai_msg.content"
   ]
  },
  {
   "cell_type": "code",
   "execution_count": 94,
   "metadata": {},
   "outputs": [
    {
     "data": {
      "text/plain": [
       "'Based on the provided resume, here are the key skills of Abhijeet Ranjan:\\n\\n**Programming Languages:**\\n\\n* **Java:**  Extensive experience with Java, including J2EE, Spring, Spring Boot, and Microservices.\\n* **Python:**  Proficient in Python, particularly with the Django framework.\\n\\n**Databases:**\\n\\n* **Relational:** MySQL\\n* **NoSQL:** MongoDB\\n\\n**Tools & Technologies:**\\n\\n* **DevOps:** Jenkins, JIRA\\n* **Source Control:** GitHub\\n* **Analytics & Monitoring:** Elastic Search Stack (ELK), Dynatrace\\n* **Messaging:** JMS\\n* **Deployment:** Jenkins\\n* **Web Development:** HTML5, jQuery, Bootstrap\\n* **Scripting:** Python\\n\\n**Other Skills:**\\n\\n* **Microservices Architecture:**  Experience designing and implementing microservices.\\n* **High Availability & High Traffic Applications:**  Proven ability to work on systems handling large user loads.\\n* **Problem Solving:**  \"Expertise to deep dive into technical holes and coming out with solutions.\"\\n* **Agile Methodologies:**  Involved in PI planning and Jira story management.\\n* **Testing:**  Experience with unit testing and bug fixing.\\n* **Communication & Collaboration:**  Able to work effectively in teams and with product owners.\\n\\n**Certifications:**\\n\\n* GenAI Assisted Engineer\\n\\n\\nLet me know if you\\'d like me to elaborate on any specific skill!\\n'"
      ]
     },
     "execution_count": 94,
     "metadata": {},
     "output_type": "execute_result"
    }
   ],
   "source": [
    "messages=[(\"system\", f\"You are a helpful assistant with capability of answering a question from this context {context}.\"),  \n",
    "(\"human\", \"what are skills of this person\"),]\n",
    "ai_msg=model.invoke(messages)\n",
    "ai_msg.content"
   ]
  },
  {
   "cell_type": "code",
   "execution_count": null,
   "metadata": {},
   "outputs": [],
   "source": [
    "\n",
    "from langchain_community.document_loaders import Docx2txtLoader\n",
    "# Load a document from given path\n",
    "loader = Docx2txtLoader(r\"115215012\\CAND SUBMIT\\report_116215012_Cognizant_CWR_Java-MSB_Pan-India_26-Nov-2024\\Abbas Ali_66fbc7044c14f5000859b0c6.docx\")\n",
    "doc = loader.load()\n",
    "# doc[0].page_content.splitlines()"
   ]
  },
  {
   "cell_type": "code",
   "execution_count": 49,
   "metadata": {},
   "outputs": [
    {
     "data": {
      "text/plain": [
       "{'id': None,\n",
       " 'metadata': {'source': '115215012\\\\CAND SUBMIT\\\\report_116215012_Cognizant_CWR_Java-MSB_Pan-India_26-Nov-2024\\\\Abbas Ali_66fbc7044c14f5000859b0c6.docx'},\n",
       " 'page_content': 'ABBAS ALI\\n\\nLocation :- Mumbai,India Mobile : +919867721712\\n\\nEmail :- abbastech72@gmail.com\\n\\n\\n\\nSUMMARY\\n\\nHaving 9.2 years of experience in enterprise application development using Java8, Spring Boot, JPA, JDBC template,Hibernate,rest API, Microservices,Angular,React,Bootstrap.\\n\\nHands on experience on Spring Boot, Microservices, JDBC, Hibernate, JPA, RabbitMQ, Maven, log4j, tomcat.\\n\\nCore expertise in spring (core, mvc, JPA), REST API.\\n\\nGood knowledge of core java concepts like oops, String, Stream, exception handling, collection framework etc.\\n\\nOutstanding knowledge of Azure, AWS and GCP.\\n\\n\\n\\nTCS, Saudi Arabia\\n\\nSenior Analyst, Apr, 2024 – Sep, 2024.\\n\\n\\tWorking on Angular15,Java8, Spring boot, JPA and Microservices.\\n\\n\\tCollaborated and communicated with management, internal development partners regarding software application design, project progress and issue resolution.\\n\\n\\tParticipated in coding, testing, implementation and maintenance for business processes.\\n\\n\\tWorking on Agile methodologies.\\n\\n\\n\\nExpleo Infosystems, Mumbai\\n\\nSenior Consultant, Nov, 2022 – Apr, 2024.\\n\\n\\tWorked on Angular13, Java8, Spring boot, JPA and Microservices.\\n\\n\\tCollaborated and communicated with management, internal development partners regarding software application design, project progress and issue resolution.\\n\\n\\tWorking on Agile methodologies.\\n\\n\\n\\n\\n\\nCapgemini, Mumbai\\n\\nSoftware Developer, June, 2022 – Nov 2022.\\n\\n\\tWorked on React, java8,Spring boot, Hibernate and Microservices.\\n\\n\\tCollaborated and communicated with management, internal development partners regarding software application design, project progress and issue resolution.\\n\\n\\tParticipated in coding, testing, implementation and maintenance for business processes.\\n\\n\\tWorked on Agile methodology.\\n\\n\\n\\n\\n\\nWipro Limited, Bangalore\\n\\nSoftware Developer, Oct, 2019 – May 2022.\\n\\n\\tWorked on Angular5, React, java8,Spring boot, Hibernate and Microservices.\\n\\n\\tCollaborated and communicated with management, internal development partners regarding software application design, project progress and issue resolution.\\n\\n\\tParticipated in coding, testing, implementation and maintenance for business processes.\\n\\n\\tWorked on Agile methodology.\\n\\n\\n\\n\\n\\n\\n\\n  IDC technologies, Noida\\n\\nSoftware Developer, Aug17 – Sep,2019.\\n\\n\\tWorked on AngularJs, Spring, Hibernate.\\n\\n\\tDeveloped spring mvc layers (controller, handler, dao), controllers to trap user request, handlers to process user request and dao to persist/retrieve data in/from database.\\n\\n\\tParticipated in coding, testing, implementation and maintenance for business processes.\\n\\n\\tMeeting with client as well project leader to understand project prototype and requirements.\\n\\n\\tHaving BFSI Domain knowledge in depth.\\n\\n\\tWorked on Agile methodology\\n\\n\\n\\n\\n\\n\\n\\nWiztech Pvt Ltd\\n\\nSoftware Developer, July, 2015 – July, 2017\\n\\n\\tWorked on frontend and backend using different technologies like HTML,CSS, bootstrap, jquery, javascript, JSP, java, Struts, Jdbc.\\n\\n\\tDeveloped html pages, applied css,made dynamic with Javascript.\\n\\n\\tWorked on Struts mvc layers to process request and serve response.\\n\\n\\tIdentified different test cases and performed manual testing.\\n\\n\\n\\n\\n\\n\\n\\n\\n\\nTECHNICAL SKILLS\\n\\n\\n\\n\\n\\n\\t\\tLanguage\\t:\\tJava, Typescript, Python, sql, pl/sql.\\n\\n\\t\\tIDE\\t:\\tIntelliJ, Eclipse, VS Code, STS\\n\\n\\t\\tFrameWork\\t:\\tSpring, Spring Boot, Angular, React, Express , Openshift.\\n\\n\\t\\tDatebase Software\\t:\\tPostgres, Mysql, Oracle, MongoDB.\\n\\n\\t\\tWeb Technology\\t:\\tHTML5, CSS3, Jquery, Bootstrap, Ajax Tool\\t:\\tJIRA, Git, Gradle, Sonar Qube.\\n\\nMaven\\n\\n\\n\\nEDUCATIONAL QUALIFICATION\\n\\n\\n\\n\\n\\n\\n\\nQualification\\n\\nInstitution\\n\\nBoard/University\\n\\nPassing Year\\n\\nAggregate\\n\\nSSC\\n\\nLittle Flower Children School\\n\\nC.B.S.E.\\n\\n2008\\n\\n69\\n\\nHSC\\n\\nSRD Senior Secondary School\\n\\nC.B.S.E.\\n\\n2010\\n\\n60\\n\\nB.Tech. – C.S.E\\n\\nB N C E T\\n\\nLucknow\\n\\nUPTU\\n\\n2015\\n\\n62\\n\\n\\n\\n\\n\\n\\n\\n\\n\\n\\n\\nPROJECT SUMMARY\\n\\n\\n\\n\\n\\nProject 5:-\\n\\n\\tTitle\\t: National Export Insurance Agency\\n\\n\\tDuration\\t: Nov, 2022 – Apr, 2024\\n\\n\\tEnvironment\\t: JDK 1.8, Spring boot, JPA, Microservices.\\n\\n\\tTeam Size\\t15\\n\\n\\tRole\\t: Developer\\n\\nDescription:-\\n\\nNational Export Insurance Agency handles all the exports in india and overseas. NEIA deals with all the exporter, overseas buyer and the Bank. It provides insurance facility to exporter, overseas buyer and the Bank.\\n\\nResponsibilities:\\n\\n\\tAnalyzing the design document, coding, debugging, testing.\\n\\n\\tWorked on presentation layer, controller layer and persistence layer.\\n\\n\\tWorking on Angular,Bootstrap, Spring boot,JPA and Microservices.\\n\\n\\n\\nProject 4:-\\n\\n\\tTitle\\t: Salary Revision System\\n\\n\\tDuration\\t: may 22 to nov 22\\n\\n\\tEnvironment\\t: JDK 1.8, Angular7, Spring boot, Microservices.\\n\\n\\tTeam Size\\t10\\n\\n\\tRole\\t: Developer\\n\\nDescription:-\\n\\nSalary Revision System revise the salary of the employee. SRS has detailed\\n\\ninformation about the salary history. It is also help in revising employee bonus as well as compensation.\\n\\n\\n\\n\\n\\n\\n\\n\\n\\nResponsibilities:\\n\\n\\tAnalyzing the design document, coding, debugging, testing.\\n\\n\\tWorked on presentation layer, controller layer and persistence layer.\\n\\n\\tWorking on Angular7, Spring boot, Hibernate, Microservices.\\n\\n\\n\\n\\n\\nProject 3:-\\n\\n\\tTitle\\t: Goods & services Tax (GST)\\n\\n\\tDuration\\t: Oct 19 to may 22\\n\\n\\tEnvironment\\t: JDK 1.8, Angular5, Spring boot, Microservices.\\n\\n\\tTeam Size\\t10\\n\\n\\tRole\\t: Developer\\n\\n\\n\\n\\n\\nDescription:-\\n\\nGoods & services Tax (GST) is especially developed for tax payer to pay his\\n\\n\\ttax to\\tthe government. Taxpayer will register and he got GSTIN no., through this GSTIN he\\n\\n\\n\\nwill pay tax to government. there is different module in GST like registration, Refund, Returns, Appeals.\\n\\n\\n\\n\\n\\nResponsibilities:\\n\\n\\tAnalyzing the design document, coding, debugging, testing.\\n\\n\\tWorked on presentation layer, controller layer and persistence layer.\\n\\n\\tWorking on Angular5, Spring boot, Hibernate.\\n\\n\\n\\n\\n\\n\\n\\n\\n\\n\\n\\n\\n\\nProject 2:-\\n\\n\\tTitle\\t: SBI National Pension Scheme\\n\\n\\tDuration\\t: Aug17 – Sep,2019\\n\\n\\tEnvironment\\t: JDK 1.7, Angularjs, Bootstrap, Spring\\n\\n\\tTeam Size\\t10\\n\\n\\tRole\\t: Developer\\n\\nDescription:-\\n\\nNational Pension Scheme (NPS) is a retirement benefit scheme introduced by\\n\\nthe Government of India to facilitate a regular income post retirement to all the subscribers. NPS is developed and managed by State Bank of India.\\n\\nResponsibilities:\\n\\n\\tAnalyzing the design document, coding, debugging, testing.\\n\\n\\tWorked on presentation layer, controller layer and persistence layer.\\n\\n\\tWorked on Angularjs, Spring, Hibernate, Bootstrap.\\n\\n\\n\\n\\n\\nProject 1:-\\n\\n\\tTitle\\t: CBOS (Core Back Office System)\\n\\n\\tDuration\\tJuly, 2015 – July, 2017\\n\\n\\n\\n\\tEnvironment\\t: JDK 1.7, Jsp, Bootstrap, Struts, Jdbc.\\n\\n\\tTeam Size\\t8\\n\\n\\tRole\\t: Developer\\n\\n\\n\\n\\n\\n\\n\\n\\n\\nDescription:-\\n\\n\\n\\n\\n\\nCBOS (Core Back Office System) is admin portal. We are developing Software with programs specifically suited to business needs and budget. This helps the client to find a solution that is fast and simple to implement, safe and secure.\\n\\n\\n\\n\\n\\n\\n\\n\\n\\nResponsibilities:\\n\\n\\tAnalyzing the design document, coding.\\n\\n\\tWorked on presentation layer, controller layer and persistence layer.\\n\\n\\tWorked on Jsp, Struts, Jdbc, Bootstrap.\\n\\n\\n\\n\\n\\nDECLARATION\\n\\n\\n\\n\\n\\n\\n\\n\\n\\nI hereby declare that whatever furnished above is true and correct to the best of my knowledge and belief.\\n\\n\\n\\n\\n\\nDate:- 01/01/2025\\n\\n\\tPlace:- Mumbai\\t(ABBAS ALI)',\n",
       " 'type': 'Document'}"
      ]
     },
     "execution_count": 49,
     "metadata": {},
     "output_type": "execute_result"
    }
   ],
   "source": [
    "#fetch attributes of doc[0] object\n",
    "doc[0].__dict__"
   ]
  },
  {
   "cell_type": "code",
   "execution_count": 98,
   "metadata": {},
   "outputs": [],
   "source": [
    "context = [\" \".join(doc[i].page_content.splitlines()) for i in range(len(doc))]\n",
    "context = \" \".join(context)\n",
    "messages = [(\"system\", f\"You are a helpful assistant with capability of answering a question from this context {context}.\"),  \n",
    "(\"human\", \"how many companies this person has worked, please show the duration also for each of the company in markdown table format?\"),]\n",
    "ai_msg=model.invoke(messages)"
   ]
  },
  {
   "cell_type": "code",
   "execution_count": 99,
   "metadata": {},
   "outputs": [
    {
     "data": {
      "text/plain": [
       "'Email \\xa0 : ABHIJEET RANJAN \\xa0 Consulting Services Pvt. Ltd. \\xa0 abhi368.reachme@gmail.com \\xa0 Contact :\\xa0+919740550662 \\xa0 Location : Bangalore ,India \\xa0 Lead Consultant, Virtusa \\xa0 Key Domain and Technical Knowledge: \\xa0 Summary \\xa0 b \" Java: j2EE,Spring, SpringBoot, \\xa0 Microservices, Python, dJango , \\xa0 Framework,JMS Message,MultiThreaded \\xa0 programming. \\xa0 b\\x16* working with Virtusa Consulting Services Pvt. Ltd. \\xa0 Extensive experience in Hospitality, eCommerce, Telecom. \\xa0 Experience in working on high availability and high traffic applications. \\xa0 b\\x16* b\\x16* b\\x16* b \" Analytical & Transformational Tools: \\xa0 Elastic Search Stack (ELK),Dynatrace \\xa0b \" Expertise to deep dive into technical holes and coming out with solutions. \\xa0 Relational Databases:\\xa0MySQL,MongoDB \\xa0 Languages: Java and Pyt Deployment: Jenkins \\xa0 Dev Ops- JIRA, Jenkins, \\xa0 Source Control- GitHub \\xa0 b \" b \" b \" b \" Projects \\xa0 Certification: \\xa0 GenAI Assisted Engineer. \\xa0 1.  Project Title: DomainServices \\xa0 Location: Belfast, UK \\xa0 Client: British Telecom \\xa0 Description: It includes multiple microservices which includes customers to \\xa0 book an appointment for the broadband installation, purchase TV channels and \\xa0 its addons. When customer wants to shift from one place to\\xa0another, it \\xa0 provides all the Homemove services to the customer. \\xa0 Academic Qualifications \\xa0 b \" Bachelor of Engineering in Computer \\xa0 Science in 2012 from Aarupadai Veedu \\xa0 Institute of Technology, Chennai, Tamil \\xa0 Nadu, India. \\xa0 Roles and Responsibilities: \\xa0 b\" b\" b\" Getting involved into PI planning and providing the user story points based \\xa0 on the Jira stories. \\xa0 Implementing Business requirements based on the Action Criteria provided \\xa0 by Product Owner. \\xa0 Work in Bug Fixing and providing solution to the LVT testing. \\xa0 Education \\xa0 b \" b \" b \" Graduation \\xa0 Aarupadai Veedu Institute of \\xa0 Technology, Chennai, India \\xa0 - 2012 \\xa0 2.  Product Title: STU Advance \\xa0 Location: Bangalore, India \\xa0 Client: Fujitsu Japan \\xa0 Intermediate/+2 \\xa0 - 2008 \\xa0 Description: To gather information about the utilization of Processors, \\xa0 Memory, Network, and CPU. \\xa0 It gathers information from all the servers integrated. By using ELK, and \\xa0 reporting the status using Django Frame work. \\xa0 Roles and Responsibilities: \\xa0 Jharkhand Academic Council (Birsa \\xa0 College, Jharkhand, India) \\xa0 Matriculation \\xa0 - 2006 \\xa0 ICSE (SDA, Sr. Sec. School, Jharkhand, \\xa0 India) \\xa0 b\" b\" Implemented reporting portal using HTML5, Jquery, Bootstrap, Python \\xa0 To gather data and create index in ElasticSearch, to display it\\xa0in Kibana \\xa0 through Logstash. \\xa0 b\" Automating The Timestamp feature in Kibana using Python scripting. \\xa0 Personal Details \\xa0 b \" b \" Year of Birth: 1991 \\xa0 Languages: \\xa0 o o English \\xa0 Hindi \\xa0 Over 11 years of experience in software development using Java and J2EE \\xa0 technologies, Micoservices, SpringBoot, Spring Framework. And currently \\xa0 3.  Project Title: IT Transformation System \\xa0 Location: Bangalore, India \\xa0 Client: TCS(Amex) Company : Foray Software Pvt Ltd [object Object] Client: TCS(Amex) Company : Foray Software Pvt. Ltd. \\xa0 Description: To maintain the details about services provided to the clients \\xa0 using a system .which makes it easier for the service provider to understand \\xa0 the status of the application which need to get retire, reopen, close and new to \\xa0 launch. \\xa0 Roles and Responsibilities: \\xa0 b\" b\" b\" Getting involved into PI planning and providing the user story points based \\xa0 on the Jira stories. \\xa0 Implementing Business requirements based on the Action Criteria \\xa0 provided by Product Owner. \\xa0 Work in Bug Fixing and providing solution to the LVT testing. \\xa0 4.  Project Title: iMagine \\xa0 Location: Bangalore, UK \\xa0 Client: IDS Software Pvt. Ltd. \\xa0 Description: iMagine is a product from IDS Next. This web app will give end to \\xa0 end hospitality solutions and functional needs for its customers like \\xa0 Independent and Chain Hotels, Resorts and Clubs, Restaurants and Cafeb\\x19s all \\xa0 around the world. This product can address all aspects of property \\xa0 management like reservations, commissions, internet booking, rate \\xa0 management, banqueting, inventory management, maintenance management \\xa0 and complete back office capabilities. \\xa0 Roles and Responsibilities: \\xa0 b\" b\" b\" b\" b\" Designed Screen\\'s with JSF and JavaScript. \\xa0 Implemented Backing Beans and Managed Beans for the masters. \\xa0 Implemented Services and DAO\\'s for the masters. \\xa0 Implemented JSF Validations and Server Validations. \\xa0 Written unit test cases and done bug fixing. \\xa0 Work Experience \\xa0 b\\x16* Virtusa Consulting Services Pvt. Ltd.: \\xa0 b \\x16 Lead Consultant \\xa0 Fujitsu India: \\xa0 June 2018\\xa0b\\x13 Present \\xa0 b\\x16* b\\x16* b \\x16 Software Engineer \\xa0 Tata Consultancy Services \\xa0 Software Developer \\xa0 IDS Software Pvt. Ltd. \\xa0 Software Engineer \\xa0 Sept 2016 b\\x13 May 2018 \\xa0 Sept 2015 b\\x13 Sept 2016 \\xa0 Oct 2013b\\x13 Sept 2015 \\xa0 b \\x16 b\\x16* b \\x16'"
      ]
     },
     "execution_count": 99,
     "metadata": {},
     "output_type": "execute_result"
    }
   ],
   "source": [
    "context"
   ]
  },
  {
   "cell_type": "code",
   "execution_count": 101,
   "metadata": {},
   "outputs": [],
   "source": [
    "from langchain_community.chat_message_histories import ChatMessageHistory\n",
    "from langchain_core.chat_history import BaseChatMessageHistory\n",
    "from langchain_core.runnables.history import RunnableWithMessageHistory\n",
    "\n",
    "store={}\n",
    "\n",
    "def get_session_history(session_id:str)->BaseChatMessageHistory:\n",
    "    if session_id not in store:\n",
    "        store[session_id]=ChatMessageHistory()\n",
    "    return store[session_id]\n",
    "\n",
    "with_message_history=RunnableWithMessageHistory(model,get_session_history)\n",
    "\n",
    "config={\"configurable\":{\"session_id\":\"cv1\"}}"
   ]
  },
  {
   "cell_type": "code",
   "execution_count": 102,
   "metadata": {},
   "outputs": [
    {
     "data": {
      "text/plain": [
       "AIMessage(content='Here\\'s a breakdown of Abhijeet Ranjan\\'s skills based on the provided information, rated on a scale of 1 to 5 (1 being novice, 5 being expert):\\n\\n**Programming Languages:**\\n\\n* **Java:** 5 - Extensive experience in Java and J2EE technologies, including microservices, Spring Boot, and Spring Framework.  Multiple projects demonstrate mastery.\\n* **Python:** 4 -  Experience with Django framework and scripting.  Demonstrated use in ELK stack integration and automation.\\n\\n**Frameworks & Tools:**\\n\\n* **Spring Boot:** 5 -  Multiple projects highlight expertise in Spring Boot.\\n* **Spring Framework:** 5 -  Strong foundation in Spring Framework, evident in project descriptions.\\n* **Django:** 4 -  Experience building a reporting portal using Django, indicating a good understanding.\\n* **ELK Stack (Elasticsearch, Logstash, Kibana):** 4 -  Implemented reporting using ELK, demonstrating proficiency in data ingestion, processing, and visualization.\\n* **Jenkins:** 4 -  Experience with Jenkins for deployment, suggesting familiarity with CI/CD practices.\\n* **JIRA:** 4 -  Used JIRA for project management, indicating understanding of agile methodologies.\\n* **GitHub:** 4 -  Experience with source control using GitHub, a common practice in software development.\\n\\n**Databases:**\\n\\n* **MySQL:** 4 -  Likely proficient based on common use in Java projects.\\n* **MongoDB:** 3 -  Experience mentioned, but project details don\\'t reveal extensive use.\\n\\n**Other:**\\n\\n* **Microservices:** 4 -  Designed and implemented microservices in a project, indicating understanding of this architectural style.\\n* **DevOps:** 3 -  Familiarity with DevOps practices through experience with Jenkins, JIRA, and potentially other tools.\\n* **Analytical & Problem-Solving:** 5 -  Emphasizes ability to \"deep dive into technical holes and coming out with solutions,\" suggesting strong analytical skills.\\n\\n**Important Notes:**\\n\\n* **Project Descriptions:** The provided project descriptions are brief. More detailed information about each project\\'s scope and Abhijeet\\'s specific contributions would allow for a more precise assessment of skills.\\n* **Certifications:** The GenAI Assisted Engineer certification is relevant to the field but doesn\\'t directly translate to specific technical skills.\\n\\n\\nLet me know if you have any other questions.\\n', additional_kwargs={}, response_metadata={'token_usage': {'completion_tokens': 505, 'prompt_tokens': 1201, 'total_tokens': 1706, 'completion_time': 0.918181818, 'prompt_time': 0.042113235, 'queue_time': 0.235178042, 'total_time': 0.960295053}, 'model_name': 'gemma2-9b-it', 'system_fingerprint': 'fp_10c08bf97d', 'finish_reason': 'stop', 'logprobs': None}, id='run-4f6ff389-d141-481a-bfe6-f6db3e319e6a-0', usage_metadata={'input_tokens': 1201, 'output_tokens': 505, 'total_tokens': 1706})"
      ]
     },
     "execution_count": 102,
     "metadata": {},
     "output_type": "execute_result"
    }
   ],
   "source": [
    "from langchain_core.messages import HumanMessage, SystemMessage\n",
    "response=with_message_history.invoke(\n",
    "    [\n",
    "        SystemMessage(content=f\"You are a helpful assistant with capability of answering a question from this context: {context}\"),\n",
    "        HumanMessage(content=\"what are skills of this person with rating from 1 to 5, consider projects handled to assess the skill level?\"),\n",
    "        ],\n",
    "    config=config\n",
    ")\n",
    "response"
   ]
  },
  {
   "cell_type": "code",
   "execution_count": 84,
   "metadata": {},
   "outputs": [
    {
     "data": {
      "text/plain": [
       "'```json\\n{\\n  \"Programming Languages & Frameworks\": {\\n    \"Java\": 5,\\n    \"Spring Framework\": 4,\\n    \"Hibernate\": 4,\\n    \"Other Frameworks\": 3\\n  },\\n  \"Databases\": {\\n    \"Oracle\": 4,\\n    \"PostgreSQL\": 3\\n  },\\n  \"Tools & Technologies\": {\\n    \"Git\": 4,\\n    \"Maven\": 4,\\n    \"Jenkins\": 3,\\n    \"Kafka\": 3,\\n    \"API Development\": 4,\\n    \"Zuul Proxy\": 3,\\n    \"Histrix\": 3\\n  },\\n  \"Other Skills\": {\\n    \"Agile\": 4,\\n    \"Problem Solving\": 4,\\n    \"Communication\": 4,\\n    \"Teamwork\": 4,\\n    \"Learning\": 5\\n  }\\n}\\n``` \\n\\n\\n'"
      ]
     },
     "execution_count": 84,
     "metadata": {},
     "output_type": "execute_result"
    }
   ],
   "source": [
    "model.invoke(\n",
    "    f\"convert the skill and rating from {response.content} to a json format ready to be inserted in a database. Remove preambles\",\n",
    "    \n",
    ").content"
   ]
  },
  {
   "cell_type": "code",
   "execution_count": null,
   "metadata": {},
   "outputs": [
    {
     "name": "stdout",
     "output_type": "stream",
     "text": [
      "```json\n",
      "{\n",
      "  \"Programming Languages\": {\n",
      "    \"Java\": 5,\n",
      "    \"Python\": 4\n",
      "  },\n",
      "  \"Databases\": {\n",
      "    \"Relational\": {\n",
      "      \"MySQL\": 4\n",
      "    },\n",
      "    \"NoSQL\": {\n",
      "      \"MongoDB\": 3\n",
      "    }\n",
      "  },\n",
      "  \"Tools & Technologies\": {\n",
      "    \"DevOps\": {\n",
      "      \"Jenkins\": 5,\n",
      "      \"JIRA\": 4\n",
      "    },\n",
      "    \"Source Control\": {\n",
      "      \"GitHub\": 4\n",
      "    },\n",
      "    \"Analytics & Monitoring\": {\n",
      "      \"Elastic Search Stack (ELK)\": 4,\n",
      "      \"Dynatrace\": 3\n",
      "    },\n",
      "    \"Messaging\": {\n",
      "      \"JMS\": 3\n",
      "    },\n",
      "    \"Deployment\": {\n",
      "      \"Jenkins\": 5\n",
      "    },\n",
      "    \"Web Development\": {\n",
      "      \"HTML5\": 3,\n",
      "      \"jQuery\": 3,\n",
      "      \"Bootstrap\": 3\n",
      "    },\n",
      "    \"Scripting\": {\n",
      "      \"Python\": 4\n",
      "    }\n",
      "  },\n",
      "  \"Other Skills\": {\n",
      "    \"Microservices Architecture\": 4,\n",
      "    \"High Availability & High Traffic Applications\": 4,\n",
      "    \"Problem Solving\": 5,\n",
      "    \"Agile Methodologies\": 4,\n",
      "    \"Testing\": 3,\n",
      "    \"Communication & Collaboration\": 4\n",
      "  },\n",
      "  \"Certifications\": {\n",
      "    \"GenAI Assisted Engineer\": 1\n",
      "  }\n",
      "}\n",
      "```\n"
     ]
    }
   ],
   "source": [
    "from langchain_core.prompts import PromptTemplate\n",
    "\n",
    "prompt_extract = PromptTemplate.from_template(\n",
    "        \"\"\"\n",
    "        ### INPUT Text:\n",
    "        {skill_rating_text}\n",
    "        ### INSTRUCTION:\n",
    "        convert from the given text to a JSON format. Output will have skill and rating dictionary rating ranging from 1 to 5.\n",
    "        Only return the valid JSON.\n",
    "        ### VALID JSON (NO PREAMBLE):    \n",
    "        \"\"\"\n",
    ")\n",
    "\n",
    "chain_extract = prompt_extract | model \n",
    "res = chain_extract.invoke(input={'skill_rating_text':ai_msg.content})\n",
    "print(res.content)"
   ]
  },
  {
   "cell_type": "code",
   "execution_count": 103,
   "metadata": {},
   "outputs": [
    {
     "data": {
      "text/plain": [
       "AIMessage(content='Abhijeet Ranjan graduated from **Aarupadai Veedu Institute of Technology** in Chennai, Tamil Nadu, India. \\n\\n\\n', additional_kwargs={}, response_metadata={'token_usage': {'completion_tokens': 29, 'prompt_tokens': 1721, 'total_tokens': 1750, 'completion_time': 0.052727273, 'prompt_time': 0.059204486, 'queue_time': 0.23784628000000002, 'total_time': 0.111931759}, 'model_name': 'gemma2-9b-it', 'system_fingerprint': 'fp_10c08bf97d', 'finish_reason': 'stop', 'logprobs': None}, id='run-31c61960-1ea8-489a-88da-7c6d645ffef3-0', usage_metadata={'input_tokens': 1721, 'output_tokens': 29, 'total_tokens': 1750})"
      ]
     },
     "execution_count": 103,
     "metadata": {},
     "output_type": "execute_result"
    }
   ],
   "source": [
    "with_message_history.invoke(\n",
    "    [HumanMessage(content=\"Which college did he graduate from?\")],\n",
    "    config=config,\n",
    ")"
   ]
  },
  {
   "cell_type": "code",
   "execution_count": 76,
   "metadata": {},
   "outputs": [
    {
     "data": {
      "text/plain": [
       "AIMessage(content='Based on the provided text, JAKKI PAKEERIAH has worked at these companies:\\n\\n* **AGON IT Solutions Pvt.ltd** (Currently working)\\n* **NLB Services private limited**\\n* **Cognizant** \\n\\n\\nLet me know if you have any other questions!', additional_kwargs={}, response_metadata={'token_usage': {'completion_tokens': 62, 'prompt_tokens': 2769, 'total_tokens': 2831, 'completion_time': 0.112727273, 'prompt_time': 0.116914305, 'queue_time': 0.23934550799999998, 'total_time': 0.229641578}, 'model_name': 'gemma2-9b-it', 'system_fingerprint': 'fp_10c08bf97d', 'finish_reason': 'stop', 'logprobs': None}, id='run-7fe9cdd8-039b-4d49-8462-f55ff538b40e-0', usage_metadata={'input_tokens': 2769, 'output_tokens': 62, 'total_tokens': 2831})"
      ]
     },
     "execution_count": 76,
     "metadata": {},
     "output_type": "execute_result"
    }
   ],
   "source": [
    "with_message_history.invoke(\n",
    "    [HumanMessage(content=\"Which companies did he work in his career?\")],\n",
    "    config=config,\n",
    ")"
   ]
  },
  {
   "cell_type": "code",
   "execution_count": 77,
   "metadata": {},
   "outputs": [
    {
     "name": "stderr",
     "output_type": "stream",
     "text": [
      "C:\\Users\\Akash Deep Patel\\AppData\\Local\\Temp\\ipykernel_37808\\3736943343.py:2: LangChainDeprecationWarning: The class `ChatOllama` was deprecated in LangChain 0.3.1 and will be removed in 1.0.0. An updated version of the class exists in the :class:`~langchain-ollama package and should be used instead. To use it run `pip install -U :class:`~langchain-ollama` and import as `from :class:`~langchain_ollama import ChatOllama``.\n",
      "  chat = ChatOllama(model=\"deepseek-r1:1.5b\")\n"
     ]
    }
   ],
   "source": [
    "from langchain_community.chat_models import ChatOllama\n",
    "chat = ChatOllama(model=\"deepseek-r1:1.5b\")"
   ]
  },
  {
   "cell_type": "code",
   "execution_count": 79,
   "metadata": {},
   "outputs": [
    {
     "data": {
      "text/plain": [
       "AIMessage(content='<think>\\nOkay, so I need to understand what the \"independence struggle\" means in India. From what I remember, India is a big country with multiple states and cities. The term \"independence struggle\" probably refers to a series of political battles where different groups tried to achieve their own independence from the British colonial rule. \\n\\nI think there were several key groups involved. There was the Mahatma Gandhi who became a prominent figure in Indian history, especially in the context of his work for India\\'s independence and freedom movement. Then there are other notable leaders like Indira Gandhi and Harsha Desai. I believe these people faced significant opposition from British forces, which were determined to protect their interests.\\n\\nI should consider the timeline—when exactly did this struggle start? Was it during a specific historical period in India? I think it began around 1947 or so when several groups, including the Janata Party, decided against independence. The British colonial government wanted to continue their dominance over the country, especially in areas like North India.\\n\\nI also remember that these conflicts were part of a broader struggle for Indian independence and freedom. They weren\\'t just about territorial gains but also about social justice and economic equality. There were different movements, like the Janata Party aimed at maintaining British control while promoting India\\'s independence.\\n\\nWhat are the key events or developments during this struggle? I think Gandhi became a symbol of resistance against colonial rule. His work, especially in the context of India\\'s liberation movement, was crucial for his own cause and the broader fight for India\\'s future.\\n\\nI should also mention that these actions were not just about individual resistance but were part of larger movements. The British government tried to suppress Gandhi\\'s attempts by imposing harsh laws and policies. There were also efforts to integrate the British colonial system into a more democratic and inclusive national plan, which was partly facilitated by these oppositions.\\n\\nThe struggle involved not only political tactics but also economic interests. The Marginal Areas in northern India were seen as potential sites for British colonization, so various groups tried to convert them to Indian independence or to integrate the local culture with the British system.\\n\\nI need to structure this information cohesively. Start by defining what the \"independence struggle\" refers to. Then outline the key players involved, their strategies, and the historical context of when this began. Include notable figures like Gandhi, the Janata Party, and Indira Gandhi\\'s role. Mention the opposition from British forces and the broader implications for Indian independence.\\n\\nWait, are there other groups besides Gandhi and the Janata Party? I think Indira Gandhi was a significant leader, but she faced opposition too. Harsha Desai also played a role in the movement, especially with his involvement in the struggle against British rules. Also, the Marginal Areas were central to these efforts.\\n\\nI should make sure that the information is accurate and concise, avoiding any misinformation about the events or their historical significance. It\\'s important to highlight both the political aspects (the fight for independence) and the social, economic, and cultural factors driving this struggle.\\n\\nIn summary, the \"independence struggle\" in India refers to a series of decisive battles over whether Indian independence should occur. This involved resistance from various groups, particularly Gandhi and others like Indira Gandhi, while facing opposition from British forces who wanted to maintain colonial dominance. The battle was part of the broader struggle for India\\'s future and had significant social and economic impacts.\\n</think>\\n\\nThe \"independence struggle\" in India refers to a series of decisive battles over whether Indian independence should occur, driven by resistance from various groups against British colonial rule and their determination to protect their interests. This conflict began around 1947, when several groups, including the Janata Party, decided against independence while the British colonial government sought continued control in areas like North India.\\n\\nKey players involved include:\\n\\n1. **Mahatma Gandhi**: A prominent figure known for his resistance to colonial rule and his advocacy for Indian independence, particularly through his \"Great Leap Forward\" programs aimed at social change and economic development.\\n\\n2. **Indira Gandhi**: A notable leader who also resisted British rule and worked towards India\\'s liberation from colonial control.\\n\\n3. **Harsha Desai**: A pivotal figure in the Indian independence movement, known for advocating for Indian freedom and integrating British colonial systems into a more inclusive national plan.\\n\\nThe struggle was part of a broader fight for Indian independence and social justice, with various movements seeking to maintain British dominance or integrate local cultures with British practices. The Marginal Areas in northern India were seen as potential sites for British colonization, highlighting the ongoing tension between British interests and the need for India\\'s future.\\n\\nThis battle was significant because it not only shaped political dynamics but also influenced economic policies, emphasizing the importance of both individual resistance and collective efforts to advance Indian independence.', additional_kwargs={}, response_metadata={'model': 'deepseek-r1:1.5b', 'created_at': '2025-03-17T09:29:22.8324957Z', 'message': {'role': 'assistant', 'content': ''}, 'done_reason': 'stop', 'done': True, 'total_duration': 66965985700, 'load_duration': 102941900, 'prompt_eval_count': 10, 'prompt_eval_duration': 63000000, 'eval_count': 975, 'eval_duration': 66790000000}, id='run-3e5670e8-ce1b-4ffa-bd2a-7f9817e2a31f-0')"
      ]
     },
     "execution_count": 79,
     "metadata": {},
     "output_type": "execute_result"
    }
   ],
   "source": [
    "chat.invoke(\"tell me about independence struggle of india\")"
   ]
  },
  {
   "cell_type": "code",
   "execution_count": null,
   "metadata": {},
   "outputs": [],
   "source": []
  }
 ],
 "metadata": {
  "kernelspec": {
   "display_name": ".venv",
   "language": "python",
   "name": "python3"
  },
  "language_info": {
   "codemirror_mode": {
    "name": "ipython",
    "version": 3
   },
   "file_extension": ".py",
   "mimetype": "text/x-python",
   "name": "python",
   "nbconvert_exporter": "python",
   "pygments_lexer": "ipython3",
   "version": "3.10.10"
  }
 },
 "nbformat": 4,
 "nbformat_minor": 2
}
