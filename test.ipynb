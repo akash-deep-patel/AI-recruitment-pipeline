{
 "cells": [
  {
   "cell_type": "code",
   "execution_count": 1,
   "metadata": {},
   "outputs": [
    {
     "name": "stderr",
     "output_type": "stream",
     "text": [
      "C:\\Users\\Akash Deep Patel\\AppData\\Local\\Temp\\ipykernel_49360\\290221321.py:10: LangChainDeprecationWarning: The class `HuggingFaceEmbeddings` was deprecated in LangChain 0.2.2 and will be removed in 1.0. An updated version of the class exists in the :class:`~langchain-huggingface package and should be used instead. To use it run `pip install -U :class:`~langchain-huggingface` and import as `from :class:`~langchain_huggingface import HuggingFaceEmbeddings``.\n",
      "  embedding_model = HuggingFaceEmbeddings(model_name=\"all-MiniLM-L6-v2\")\n",
      "c:\\Users\\Akash Deep Patel\\Documents\\AI-recruitment-pipeline\\.venv\\lib\\site-packages\\tqdm\\auto.py:21: TqdmWarning: IProgress not found. Please update jupyter and ipywidgets. See https://ipywidgets.readthedocs.io/en/stable/user_install.html\n",
      "  from .autonotebook import tqdm as notebook_tqdm\n"
     ]
    },
    {
     "name": "stdout",
     "output_type": "stream",
     "text": [
      "Document and its embedding vector stored successfully!\n"
     ]
    }
   ],
   "source": [
    "from pymongo import MongoClient\n",
    "from langchain.embeddings import HuggingFaceEmbeddings\n",
    "\n",
    "# Initialize MongoDB connection\n",
    "client = MongoClient(\"mongodb://localhost:27017/\")\n",
    "db = client[\"mongo\"]  # Database\n",
    "collection = db[\"documents\"]  # Collection\n",
    "\n",
    "# Initialize HuggingFace Embeddings model\n",
    "embedding_model = HuggingFaceEmbeddings(model_name=\"all-MiniLM-L6-v2\")\n",
    "\n",
    "# Sample document\n",
    "document_text = \"Artificial Intelligence is transforming the world.\"\n",
    "\n",
    "# Generate embedding vector\n",
    "embedding_vector = embedding_model.embed_query(document_text)\n",
    "\n",
    "# Create a document with both text and embedding\n",
    "document_entry = {\n",
    "    \"text\": document_text,\n",
    "    \"embedding\": embedding_vector  # Store the embedding vector as a list\n",
    "}\n",
    "\n",
    "# Insert into MongoDB\n",
    "collection.insert_one(document_entry)\n",
    "\n",
    "print(\"Document and its embedding vector stored successfully!\")\n"
   ]
  },
  {
   "cell_type": "code",
   "execution_count": 2,
   "metadata": {},
   "outputs": [],
   "source": [
    "from langchain_core.documents import Document\n",
    "\n",
    "documents = [\n",
    "    Document(\n",
    "        page_content=\"Dogs are great companions, known for their loyalty and friendliness.\",\n",
    "        metadata={\"source\": \"mammal-pets-doc\"},\n",
    "    ),\n",
    "    Document(\n",
    "        page_content=\"Cats are independent pets that often enjoy their own space.\",\n",
    "        metadata={\"source\": \"mammal-pets-doc\"},\n",
    "    ),\n",
    "    Document(\n",
    "        page_content=\"Goldfish are popular pets for beginners, requiring relatively simple care.\",\n",
    "        metadata={\"source\": \"fish-pets-doc\"},\n",
    "    ),\n",
    "    Document(\n",
    "        page_content=\"Parrots are intelligent birds capable of mimicking human speech.\",\n",
    "        metadata={\"source\": \"bird-pets-doc\"},\n",
    "    ),\n",
    "    Document(\n",
    "        page_content=\"Rabbits are social animals that need plenty of space to hop around.\",\n",
    "        metadata={\"source\": \"mammal-pets-doc\"},\n",
    "    ),\n",
    "]"
   ]
  },
  {
   "cell_type": "code",
   "execution_count": 4,
   "metadata": {},
   "outputs": [
    {
     "name": "stdout",
     "output_type": "stream",
     "text": [
      "Document and its embedding vector stored successfully!\n"
     ]
    }
   ],
   "source": [
    "\n",
    "# # Sample document\n",
    "# document_text = \"Artificial Intelligence is transforming the world.\"\n",
    "\n",
    "# Generate embedding vector\n",
    "embedding_vector = embedding_model.embed_query(documents[0].page_content)\n",
    "\n",
    "# Create a document with both text and embedding\n",
    "document_entry = {\n",
    "    \"document\": documents[0].page_content,\n",
    "    \"embedding\": embedding_vector  # Store the embedding vector as a list\n",
    "}\n",
    "\n",
    "# Insert into MongoDB\n",
    "collection.insert_one(document_entry)\n",
    "\n",
    "print(\"Document and its embedding vector stored successfully!\")"
   ]
  },
  {
   "cell_type": "code",
   "execution_count": null,
   "metadata": {},
   "outputs": [],
   "source": []
  },
  {
   "cell_type": "code",
   "execution_count": null,
   "metadata": {},
   "outputs": [],
   "source": []
  }
 ],
 "metadata": {
  "kernelspec": {
   "display_name": ".venv",
   "language": "python",
   "name": "python3"
  },
  "language_info": {
   "codemirror_mode": {
    "name": "ipython",
    "version": 3
   },
   "file_extension": ".py",
   "mimetype": "text/x-python",
   "name": "python",
   "nbconvert_exporter": "python",
   "pygments_lexer": "ipython3",
   "version": "3.10.10"
  }
 },
 "nbformat": 4,
 "nbformat_minor": 2
}
